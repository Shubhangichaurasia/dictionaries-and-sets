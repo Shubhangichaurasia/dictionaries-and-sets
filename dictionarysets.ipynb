{
 "cells": [
  {
   "cell_type": "markdown",
   "id": "60c9afd5-60cb-4fa4-a610-ac1f30bb4776",
   "metadata": {},
   "source": [
    "#DICTIONARIES AND SETS\n",
    "\n",
    "\n",
    "\n",
    "#1)Dictionaries-\n",
    "used to store data in key:value interace"
   ]
  },
  {
   "cell_type": "code",
   "execution_count": 68,
   "id": "ff6c6bce-b284-460a-880d-517e9e596502",
   "metadata": {},
   "outputs": [
    {
     "name": "stdout",
     "output_type": "stream",
     "text": [
      "{'name': 'shubhangi', 'cgpa': 8.9, 'marks': [87, 89, 97]}\n",
      "shubhangi\n"
     ]
    }
   ],
   "source": [
    "dict ={\"name\":\"shubhangi\",\n",
    "       \"cgpa\":8.9,\"marks\":[87,89,97]}\n",
    "print(dict)\n",
    "print(dict[\"name\"])"
   ]
  },
  {
   "cell_type": "code",
   "execution_count": 69,
   "id": "1ec980b7-9fbc-4731-b19d-26b12a96f6ca",
   "metadata": {},
   "outputs": [
    {
     "name": "stdout",
     "output_type": "stream",
     "text": [
      "{'name': 'shubhangi', 'cgpa': 8.9, 'marks': [87, 89, 97], 'surname': 23}\n"
     ]
    }
   ],
   "source": [
    "dict [\"name\"] = \"shubhangi\"\n",
    "dict [\"surname\"] = \"chaurasia\"\n",
    "dict [\"surname\"] = 23#overwritting\n",
    "\n",
    "\n",
    "print(dict)"
   ]
  },
  {
   "cell_type": "code",
   "execution_count": 70,
   "id": "02823a90-52d4-423d-983b-9d097dd396bf",
   "metadata": {},
   "outputs": [
    {
     "name": "stdout",
     "output_type": "stream",
     "text": [
      "{'name': 'shubhangi'}\n"
     ]
    }
   ],
   "source": [
    "null_dict = {}# null dictinaries\n",
    "null_dict[\"name\"] = \"shubhangi\"\n",
    "\n",
    "print(null_dict)\n",
    "\n"
   ]
  },
  {
   "cell_type": "markdown",
   "id": "489134a2-e0fb-46b1-8a31-8048c9c0704a",
   "metadata": {},
   "source": [
    "#nested dictionaries - make \"value\" of a particular dictionary ,a new dictionary"
   ]
  },
  {
   "cell_type": "code",
   "execution_count": 71,
   "id": "7dff62c1-848e-477a-8dc3-6cf1576dcfcb",
   "metadata": {},
   "outputs": [],
   "source": [
    "student ={\n",
    "    \"name\" : \"raju rastogi\",\n",
    "    \"subject\":{\n",
    "      \"phy\":87,\n",
    "      \"chem\" :89,\n",
    "      \"maths\": 93\n",
    "}\n",
    "\n",
    "}\n",
    "\n",
    "\n"
   ]
  },
  {
   "cell_type": "code",
   "execution_count": 72,
   "id": "16ef28f5-edaa-411f-9cf3-f4967a4112e0",
   "metadata": {},
   "outputs": [
    {
     "name": "stdout",
     "output_type": "stream",
     "text": [
      "{'name': 'raju rastogi', 'subject': {'phy': 87, 'chem': 89, 'maths': 93}}\n"
     ]
    }
   ],
   "source": [
    "print(student)"
   ]
  },
  {
   "cell_type": "code",
   "execution_count": 73,
   "id": "13ccf0f8-8ed6-4635-b6b3-0da8df7abdec",
   "metadata": {},
   "outputs": [
    {
     "name": "stdout",
     "output_type": "stream",
     "text": [
      "{'phy': 87, 'chem': 89, 'maths': 93}\n",
      "93\n"
     ]
    }
   ],
   "source": [
    "#nesting \n",
    "print(student[\"subject\"])\n",
    "print(student[\"subject\"][\"maths\"])"
   ]
  },
  {
   "cell_type": "markdown",
   "id": "1d68407e-f437-40d5-95e7-5b92d4aada72",
   "metadata": {},
   "source": [
    "#Dictionary Methods\n",
    "\n",
    "myDict.keys() -> returns all keys\n",
    "\n",
    "myDict.values()-> returns all values\n",
    "\n",
    "myDict.items()-> returns all (key,val) airs as tuples\n",
    "\n",
    "myDict.get(\"key\")-> returns the key according to value\n",
    "\n",
    "myDict.update(newDict)->inserts the specified items to the dictionaries"
   ]
  },
  {
   "cell_type": "code",
   "execution_count": 74,
   "id": "a2386778-8081-4d3c-ba94-d1e79b0e6efe",
   "metadata": {},
   "outputs": [
    {
     "name": "stdout",
     "output_type": "stream",
     "text": [
      "dict_keys(['name', 'subject'])\n",
      "['name', 'subject']\n",
      "2\n",
      "2\n"
     ]
    }
   ],
   "source": [
    "student ={\n",
    "    \"name\" : \"raju rastogi\",\n",
    "    \"subject\":{\n",
    "      \"phy\":87,\n",
    "      \"chem\" :89,\n",
    "      \"maths\": 93\n",
    "}\n",
    "}\n",
    "print(student.keys())\n",
    "print(list(student.keys()))#typecasting\n",
    "print(len(student))#to find length of list i.e number of keys\n",
    "#or\n",
    "print(len(list(student.keys())))"
   ]
  },
  {
   "cell_type": "code",
   "execution_count": 75,
   "id": "37d83d78-6538-4b36-a414-f7e2baa84974",
   "metadata": {},
   "outputs": [
    {
     "name": "stdout",
     "output_type": "stream",
     "text": [
      "dict_values(['raju rastogi', {'phy': 87, 'chem': 89, 'maths': 93}])\n",
      "2\n",
      "['raju rastogi', {'phy': 87, 'chem': 89, 'maths': 93}]\n"
     ]
    }
   ],
   "source": [
    "student ={\n",
    "    \"name\" : \"raju rastogi\",\n",
    "    \"subject\":{\n",
    "      \"phy\":87,\n",
    "      \"chem\" :89,\n",
    "      \"maths\": 93\n",
    "}\n",
    "}\n",
    "print(student.values())\n",
    "print(len(student.values()))\n",
    "print(list(student.values()))\n",
    "# we can store list in dictinaries and dictionaries in list and it goes for tuplr too"
   ]
  },
  {
   "cell_type": "code",
   "execution_count": 76,
   "id": "64f5730d-efe6-45a1-92c7-38b882457850",
   "metadata": {},
   "outputs": [
    {
     "name": "stdout",
     "output_type": "stream",
     "text": [
      "dict_items([('name', 'raju rastogi'), ('subject', {'phy': 87, 'chem': 89, 'maths': 93})])\n",
      "[('name', 'raju rastogi'), ('subject', {'phy': 87, 'chem': 89, 'maths': 93})]\n",
      "('subject', {'phy': 87, 'chem': 89, 'maths': 93})\n",
      "('name', 'raju rastogi')\n"
     ]
    }
   ],
   "source": [
    "student ={\n",
    "    \"name\" : \"raju rastogi\",\n",
    "    \"subject\":{\n",
    "      \"phy\":87,\n",
    "      \"chem\" :89,\n",
    "      \"maths\": 93\n",
    "}\n",
    "}\n",
    "print(student.items())# in form of tuple\n",
    "print(list(student.items()))\n",
    "#also\n",
    "pairs = list(student.items())\n",
    "print(pairs[1])\n",
    "print(pairs[0])"
   ]
  },
  {
   "cell_type": "code",
   "execution_count": 77,
   "id": "462166de-2b7b-4ac9-a626-6df14e207ec8",
   "metadata": {},
   "outputs": [
    {
     "name": "stdout",
     "output_type": "stream",
     "text": [
      "raju rastogi\n",
      "raju rastogi\n",
      "None\n"
     ]
    }
   ],
   "source": [
    "student ={\n",
    "    \"name\" : \"raju rastogi\",\n",
    "    \"subject\":{\n",
    "      \"phy\":87,\n",
    "      \"chem\" :89,\n",
    "      \"maths\": 93\n",
    "}\n",
    "}\n",
    "#  we can use both dict[\"key\"] or dict.get(\"key\") = value then what is the difference? lets see!\n",
    "print(student[\"name\"])\n",
    "print(student.get(\"name\"))\n",
    "\n",
    "#difference \n",
    "''''dict[\"key\"]  -> error\n",
    " dict.get(\"key\") -> no error \n",
    "example -'''\n",
    "#print(student[\"name1\"])\n",
    "print(student.get(\"name1\"))"
   ]
  },
  {
   "cell_type": "code",
   "execution_count": 78,
   "id": "9cc1e3f0-3f23-4d70-9071-6c765f1b894e",
   "metadata": {},
   "outputs": [
    {
     "name": "stdout",
     "output_type": "stream",
     "text": [
      "{'name': 'raju rastogi', 'subject': {'phy': 87, 'chem': 89, 'maths': 93}, 'state': 'bihar', 'age': 20}\n"
     ]
    }
   ],
   "source": [
    "student ={\n",
    "    \"name\" : \"raju rastogi\",\n",
    "    \"subject\":{\n",
    "      \"phy\":87,\n",
    "      \"chem\" :89,\n",
    "      \"maths\": 93\n",
    "}\n",
    "}\n",
    "new_dict = {\"state\":\"bihar\",\"age\":20}\n",
    "student.update(new_dict)\n",
    "print(student)"
   ]
  },
  {
   "cell_type": "markdown",
   "id": "7d0e7d91-66c3-4191-ae8a-e0292c0c5895",
   "metadata": {},
   "source": [
    "#SETS -> Collection of unordered items\n",
    "\n",
    "      ->Each collection in set must be unique and immutable.\n",
    "\n",
    " #important -----\n",
    " \n",
    "      sets -> mutable\n",
    "     \n",
    "      sets ->elements-> immutable"
   ]
  },
  {
   "cell_type": "code",
   "execution_count": 79,
   "id": "cdcac0bd-3fa3-40f9-99af-7ca1425dda28",
   "metadata": {},
   "outputs": [
    {
     "name": "stdout",
     "output_type": "stream",
     "text": [
      "{1, 2, 3, 4} {1, 2, 3, 4}\n",
      "<class 'set'>\n",
      "4\n"
     ]
    }
   ],
   "source": [
    "num = {1,2,3,4}\n",
    "mun = {1,2,2,3,4,4,4,4,4,}#dulicate items are not allowed in sets, they are just ignored while printing\n",
    "print(num, mun)\n",
    "print(type(num))\n",
    "print(len(mun))#total no of items"
   ]
  },
  {
   "cell_type": "code",
   "execution_count": 80,
   "id": "8c746c27-d538-43d0-99cf-c4542f5ba41a",
   "metadata": {},
   "outputs": [],
   "source": [
    "#Empty set syntax\n",
    "null_set = set()\n",
    "#Empty dictionary syntax\n",
    "null_dict = {}"
   ]
  },
  {
   "cell_type": "markdown",
   "id": "688493de-3158-4551-8d16-abab3387a753",
   "metadata": {},
   "source": [
    "#SETS METHODS\n",
    "\n",
    "set.add(el)-> adds an element\n",
    "\n",
    "set.remove(el)-> removes the element\n",
    "\n",
    "set.clear()->empties the set\n",
    "\n",
    "set.pop()-> removes a random value\n",
    "\n",
    "set.union(set2)->combines both set values and returns new\n",
    "\n",
    "set.intersection(set2)-> combines common values and returns new"
   ]
  },
  {
   "cell_type": "code",
   "execution_count": 81,
   "id": "9c9459b0-e1ab-46e5-851d-c3a90ed12d2b",
   "metadata": {},
   "outputs": [
    {
     "name": "stdout",
     "output_type": "stream",
     "text": [
      "{1, 2}\n"
     ]
    }
   ],
   "source": [
    "collection = set()\n",
    "collection.add (1)\n",
    "collection.add(2)\n",
    "collection.add(2)\n",
    "#collection.remove(1)\n",
    "#collection.remove(7) ->error\n",
    "print(collection)"
   ]
  },
  {
   "cell_type": "code",
   "execution_count": 92,
   "id": "d0f228ef-d4f7-4308-94ea-4b0968d90364",
   "metadata": {},
   "outputs": [
    {
     "name": "stdout",
     "output_type": "stream",
     "text": [
      "{'shubhangi', (1, 2, 3, 4, 5, 6, 7)}\n",
      "{'shubhangi'}\n",
      "0\n"
     ]
    }
   ],
   "source": [
    "collection.add(\"shubhangi\")\n",
    "collection.add((1,2,3,4,5,6,7)) #thala for a reason:)\n",
    "#collection.add([1,2,3,4,5,6,7])\n",
    "print(collection)#what is unhasable error?\n",
    "collection.pop()\n",
    "print(collection)\n",
    "collection.clear()\n",
    "print(len(collection))\n"
   ]
  },
  {
   "cell_type": "code",
   "execution_count": 95,
   "id": "1302ca24-a6d4-463a-909f-f92019c14183",
   "metadata": {},
   "outputs": [
    {
     "name": "stdout",
     "output_type": "stream",
     "text": [
      "{1, 2, 3, 4}\n",
      "{2, 3}\n",
      "{1, 2, 3}\n"
     ]
    }
   ],
   "source": [
    "set1 = {1,2,3}\n",
    "set2 ={2,3,4}\n",
    "print(set1.union(set2))\n",
    "print(set1.intersection(set2))\n",
    "print(set1)"
   ]
  },
  {
   "cell_type": "code",
   "execution_count": null,
   "id": "03749a16-4012-4fbe-a8a8-17181e99995f",
   "metadata": {},
   "outputs": [],
   "source": []
  }
 ],
 "metadata": {
  "kernelspec": {
   "display_name": "Python 3 (ipykernel)",
   "language": "python",
   "name": "python3"
  },
  "language_info": {
   "codemirror_mode": {
    "name": "ipython",
    "version": 3
   },
   "file_extension": ".py",
   "mimetype": "text/x-python",
   "name": "python",
   "nbconvert_exporter": "python",
   "pygments_lexer": "ipython3",
   "version": "3.11.9"
  }
 },
 "nbformat": 4,
 "nbformat_minor": 5
}
